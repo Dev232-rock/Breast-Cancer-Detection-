{
  "nbformat": 4,
  "nbformat_minor": 0,
  "metadata": {
    "colab": {
      "name": "Breast_Cancer_Detection.ipynb",
      "provenance": [],
      "collapsed_sections": []
    },
    "kernelspec": {
      "name": "python3",
      "display_name": "Python 3"
    },
    "language_info": {
      "name": "python"
    }
  },
  "cells": [
    {
      "cell_type": "code",
      "metadata": {
        "id": "vEw_OfUW0tx0"
      },
      "source": [
        "import pandas as pd\n",
        "import numpy as np\n",
        "\n",
        "from sklearn.datasets import load_breast_cancer\n",
        "from sklearn.preprocessing import StandardScaler\n",
        "\n",
        "from keras.models import Sequential\n",
        "from keras.layers import Dense"
      ],
      "execution_count": 1,
      "outputs": []
    },
    {
      "cell_type": "code",
      "metadata": {
        "id": "UMDdV1w51ecK"
      },
      "source": [
        "data = load_breast_cancer()"
      ],
      "execution_count": 2,
      "outputs": []
    },
    {
      "cell_type": "code",
      "metadata": {
        "colab": {
          "base_uri": "https://localhost:8080/"
        },
        "id": "9ZX_eiY-1uGS",
        "outputId": "24e47678-279a-4208-8893-96d47a0fa7da"
      },
      "source": [
        "data.keys()"
      ],
      "execution_count": 3,
      "outputs": [
        {
          "output_type": "execute_result",
          "data": {
            "text/plain": [
              "dict_keys(['data', 'target', 'frame', 'target_names', 'DESCR', 'feature_names', 'filename', 'data_module'])"
            ]
          },
          "metadata": {},
          "execution_count": 3
        }
      ]
    },
    {
      "cell_type": "code",
      "metadata": {
        "colab": {
          "base_uri": "https://localhost:8080/"
        },
        "id": "bT1yRGs110M0",
        "outputId": "06c88c7c-c0c4-44c4-e359-5524e86bf2b1"
      },
      "source": [
        "print(data['DESCR'])"
      ],
      "execution_count": 4,
      "outputs": [
        {
          "output_type": "stream",
          "name": "stdout",
          "text": [
            ".. _breast_cancer_dataset:\n",
            "\n",
            "Breast cancer wisconsin (diagnostic) dataset\n",
            "--------------------------------------------\n",
            "\n",
            "**Data Set Characteristics:**\n",
            "\n",
            "    :Number of Instances: 569\n",
            "\n",
            "    :Number of Attributes: 30 numeric, predictive attributes and the class\n",
            "\n",
            "    :Attribute Information:\n",
            "        - radius (mean of distances from center to points on the perimeter)\n",
            "        - texture (standard deviation of gray-scale values)\n",
            "        - perimeter\n",
            "        - area\n",
            "        - smoothness (local variation in radius lengths)\n",
            "        - compactness (perimeter^2 / area - 1.0)\n",
            "        - concavity (severity of concave portions of the contour)\n",
            "        - concave points (number of concave portions of the contour)\n",
            "        - symmetry\n",
            "        - fractal dimension (\"coastline approximation\" - 1)\n",
            "\n",
            "        The mean, standard error, and \"worst\" or largest (mean of the three\n",
            "        worst/largest values) of these features were computed for each image,\n",
            "        resulting in 30 features.  For instance, field 0 is Mean Radius, field\n",
            "        10 is Radius SE, field 20 is Worst Radius.\n",
            "\n",
            "        - class:\n",
            "                - WDBC-Malignant\n",
            "                - WDBC-Benign\n",
            "\n",
            "    :Summary Statistics:\n",
            "\n",
            "    ===================================== ====== ======\n",
            "                                           Min    Max\n",
            "    ===================================== ====== ======\n",
            "    radius (mean):                        6.981  28.11\n",
            "    texture (mean):                       9.71   39.28\n",
            "    perimeter (mean):                     43.79  188.5\n",
            "    area (mean):                          143.5  2501.0\n",
            "    smoothness (mean):                    0.053  0.163\n",
            "    compactness (mean):                   0.019  0.345\n",
            "    concavity (mean):                     0.0    0.427\n",
            "    concave points (mean):                0.0    0.201\n",
            "    symmetry (mean):                      0.106  0.304\n",
            "    fractal dimension (mean):             0.05   0.097\n",
            "    radius (standard error):              0.112  2.873\n",
            "    texture (standard error):             0.36   4.885\n",
            "    perimeter (standard error):           0.757  21.98\n",
            "    area (standard error):                6.802  542.2\n",
            "    smoothness (standard error):          0.002  0.031\n",
            "    compactness (standard error):         0.002  0.135\n",
            "    concavity (standard error):           0.0    0.396\n",
            "    concave points (standard error):      0.0    0.053\n",
            "    symmetry (standard error):            0.008  0.079\n",
            "    fractal dimension (standard error):   0.001  0.03\n",
            "    radius (worst):                       7.93   36.04\n",
            "    texture (worst):                      12.02  49.54\n",
            "    perimeter (worst):                    50.41  251.2\n",
            "    area (worst):                         185.2  4254.0\n",
            "    smoothness (worst):                   0.071  0.223\n",
            "    compactness (worst):                  0.027  1.058\n",
            "    concavity (worst):                    0.0    1.252\n",
            "    concave points (worst):               0.0    0.291\n",
            "    symmetry (worst):                     0.156  0.664\n",
            "    fractal dimension (worst):            0.055  0.208\n",
            "    ===================================== ====== ======\n",
            "\n",
            "    :Missing Attribute Values: None\n",
            "\n",
            "    :Class Distribution: 212 - Malignant, 357 - Benign\n",
            "\n",
            "    :Creator:  Dr. William H. Wolberg, W. Nick Street, Olvi L. Mangasarian\n",
            "\n",
            "    :Donor: Nick Street\n",
            "\n",
            "    :Date: November, 1995\n",
            "\n",
            "This is a copy of UCI ML Breast Cancer Wisconsin (Diagnostic) datasets.\n",
            "https://goo.gl/U2Uwz2\n",
            "\n",
            "Features are computed from a digitized image of a fine needle\n",
            "aspirate (FNA) of a breast mass.  They describe\n",
            "characteristics of the cell nuclei present in the image.\n",
            "\n",
            "Separating plane described above was obtained using\n",
            "Multisurface Method-Tree (MSM-T) [K. P. Bennett, \"Decision Tree\n",
            "Construction Via Linear Programming.\" Proceedings of the 4th\n",
            "Midwest Artificial Intelligence and Cognitive Science Society,\n",
            "pp. 97-101, 1992], a classification method which uses linear\n",
            "programming to construct a decision tree.  Relevant features\n",
            "were selected using an exhaustive search in the space of 1-4\n",
            "features and 1-3 separating planes.\n",
            "\n",
            "The actual linear program used to obtain the separating plane\n",
            "in the 3-dimensional space is that described in:\n",
            "[K. P. Bennett and O. L. Mangasarian: \"Robust Linear\n",
            "Programming Discrimination of Two Linearly Inseparable Sets\",\n",
            "Optimization Methods and Software 1, 1992, 23-34].\n",
            "\n",
            "This database is also available through the UW CS ftp server:\n",
            "\n",
            "ftp ftp.cs.wisc.edu\n",
            "cd math-prog/cpo-dataset/machine-learn/WDBC/\n",
            "\n",
            ".. topic:: References\n",
            "\n",
            "   - W.N. Street, W.H. Wolberg and O.L. Mangasarian. Nuclear feature extraction \n",
            "     for breast tumor diagnosis. IS&T/SPIE 1993 International Symposium on \n",
            "     Electronic Imaging: Science and Technology, volume 1905, pages 861-870,\n",
            "     San Jose, CA, 1993.\n",
            "   - O.L. Mangasarian, W.N. Street and W.H. Wolberg. Breast cancer diagnosis and \n",
            "     prognosis via linear programming. Operations Research, 43(4), pages 570-577, \n",
            "     July-August 1995.\n",
            "   - W.H. Wolberg, W.N. Street, and O.L. Mangasarian. Machine learning techniques\n",
            "     to diagnose breast cancer from fine-needle aspirates. Cancer Letters 77 (1994) \n",
            "     163-171.\n"
          ]
        }
      ]
    },
    {
      "cell_type": "code",
      "metadata": {
        "colab": {
          "base_uri": "https://localhost:8080/"
        },
        "id": "FFXNpWq-1-bS",
        "outputId": "4d444fb3-d4aa-4725-a7fa-2da35632132a"
      },
      "source": [
        "data['data'].shape"
      ],
      "execution_count": 5,
      "outputs": [
        {
          "output_type": "execute_result",
          "data": {
            "text/plain": [
              "(569, 30)"
            ]
          },
          "metadata": {},
          "execution_count": 5
        }
      ]
    },
    {
      "cell_type": "code",
      "metadata": {
        "colab": {
          "base_uri": "https://localhost:8080/"
        },
        "id": "J5r0c3rI2Fuw",
        "outputId": "acc2a671-492f-4b5b-9013-120a0e70271a"
      },
      "source": [
        "data['feature_names']"
      ],
      "execution_count": 6,
      "outputs": [
        {
          "output_type": "execute_result",
          "data": {
            "text/plain": [
              "array(['mean radius', 'mean texture', 'mean perimeter', 'mean area',\n",
              "       'mean smoothness', 'mean compactness', 'mean concavity',\n",
              "       'mean concave points', 'mean symmetry', 'mean fractal dimension',\n",
              "       'radius error', 'texture error', 'perimeter error', 'area error',\n",
              "       'smoothness error', 'compactness error', 'concavity error',\n",
              "       'concave points error', 'symmetry error',\n",
              "       'fractal dimension error', 'worst radius', 'worst texture',\n",
              "       'worst perimeter', 'worst area', 'worst smoothness',\n",
              "       'worst compactness', 'worst concavity', 'worst concave points',\n",
              "       'worst symmetry', 'worst fractal dimension'], dtype='<U23')"
            ]
          },
          "metadata": {},
          "execution_count": 6
        }
      ]
    },
    {
      "cell_type": "code",
      "metadata": {
        "colab": {
          "base_uri": "https://localhost:8080/"
        },
        "id": "Dkitxxev2T2b",
        "outputId": "444d9142-552a-4c2b-cf18-8d2859a9b88e"
      },
      "source": [
        "print (len(data['feature_names']))"
      ],
      "execution_count": 7,
      "outputs": [
        {
          "output_type": "stream",
          "name": "stdout",
          "text": [
            "30\n"
          ]
        }
      ]
    },
    {
      "cell_type": "code",
      "metadata": {
        "colab": {
          "base_uri": "https://localhost:8080/"
        },
        "id": "NeD0gNJl2dOE",
        "outputId": "48fa0653-6640-4a33-fec4-869b8ff7a3be"
      },
      "source": [
        "data['data'][1]"
      ],
      "execution_count": 8,
      "outputs": [
        {
          "output_type": "execute_result",
          "data": {
            "text/plain": [
              "array([2.057e+01, 1.777e+01, 1.329e+02, 1.326e+03, 8.474e-02, 7.864e-02,\n",
              "       8.690e-02, 7.017e-02, 1.812e-01, 5.667e-02, 5.435e-01, 7.339e-01,\n",
              "       3.398e+00, 7.408e+01, 5.225e-03, 1.308e-02, 1.860e-02, 1.340e-02,\n",
              "       1.389e-02, 3.532e-03, 2.499e+01, 2.341e+01, 1.588e+02, 1.956e+03,\n",
              "       1.238e-01, 1.866e-01, 2.416e-01, 1.860e-01, 2.750e-01, 8.902e-02])"
            ]
          },
          "metadata": {},
          "execution_count": 8
        }
      ]
    },
    {
      "cell_type": "code",
      "metadata": {
        "colab": {
          "base_uri": "https://localhost:8080/"
        },
        "id": "qydVXI7-3a34",
        "outputId": "0309a788-5e9d-4ffc-be07-fb45a22858c8"
      },
      "source": [
        "j = 0\n",
        "for i in data['feature_names']:\n",
        "  print(i,\":\",data['data'][1][j])\n",
        "  j+=1"
      ],
      "execution_count": 9,
      "outputs": [
        {
          "output_type": "stream",
          "name": "stdout",
          "text": [
            "mean radius : 20.57\n",
            "mean texture : 17.77\n",
            "mean perimeter : 132.9\n",
            "mean area : 1326.0\n",
            "mean smoothness : 0.08474\n",
            "mean compactness : 0.07864\n",
            "mean concavity : 0.0869\n",
            "mean concave points : 0.07017\n",
            "mean symmetry : 0.1812\n",
            "mean fractal dimension : 0.05667\n",
            "radius error : 0.5435\n",
            "texture error : 0.7339\n",
            "perimeter error : 3.398\n",
            "area error : 74.08\n",
            "smoothness error : 0.005225\n",
            "compactness error : 0.01308\n",
            "concavity error : 0.0186\n",
            "concave points error : 0.0134\n",
            "symmetry error : 0.01389\n",
            "fractal dimension error : 0.003532\n",
            "worst radius : 24.99\n",
            "worst texture : 23.41\n",
            "worst perimeter : 158.8\n",
            "worst area : 1956.0\n",
            "worst smoothness : 0.1238\n",
            "worst compactness : 0.1866\n",
            "worst concavity : 0.2416\n",
            "worst concave points : 0.186\n",
            "worst symmetry : 0.275\n",
            "worst fractal dimension : 0.08902\n"
          ]
        }
      ]
    },
    {
      "cell_type": "code",
      "metadata": {
        "id": "EUNtmZOB3g6l"
      },
      "source": [
        "feature = data['data']"
      ],
      "execution_count": 10,
      "outputs": []
    },
    {
      "cell_type": "code",
      "metadata": {
        "id": "PRDQYSW03lfl"
      },
      "source": [
        "label = data['target']"
      ],
      "execution_count": 11,
      "outputs": []
    },
    {
      "cell_type": "code",
      "metadata": {
        "colab": {
          "base_uri": "https://localhost:8080/"
        },
        "id": "1ECPxxuv3rXF",
        "outputId": "7edc9c84-0a9a-4165-8da7-263d7ef4e333"
      },
      "source": [
        "data['target_names']"
      ],
      "execution_count": 12,
      "outputs": [
        {
          "output_type": "execute_result",
          "data": {
            "text/plain": [
              "array(['malignant', 'benign'], dtype='<U9')"
            ]
          },
          "metadata": {},
          "execution_count": 12
        }
      ]
    },
    {
      "cell_type": "code",
      "metadata": {
        "colab": {
          "base_uri": "https://localhost:8080/"
        },
        "id": "2xL86AJI3vLd",
        "outputId": "0cf35a4d-2b90-416e-9703-434bd419ed44"
      },
      "source": [
        "feature.shape"
      ],
      "execution_count": 13,
      "outputs": [
        {
          "output_type": "execute_result",
          "data": {
            "text/plain": [
              "(569, 30)"
            ]
          },
          "metadata": {},
          "execution_count": 13
        }
      ]
    },
    {
      "cell_type": "code",
      "metadata": {
        "colab": {
          "base_uri": "https://localhost:8080/"
        },
        "id": "Of4nHeFZ3yke",
        "outputId": "4f39e954-4eb7-42c4-e302-b91ea72eb70b"
      },
      "source": [
        "label.shape"
      ],
      "execution_count": 14,
      "outputs": [
        {
          "output_type": "execute_result",
          "data": {
            "text/plain": [
              "(569,)"
            ]
          },
          "metadata": {},
          "execution_count": 14
        }
      ]
    },
    {
      "cell_type": "code",
      "metadata": {
        "id": "0q8ceih736LQ"
      },
      "source": [
        "scale = StandardScaler()\n",
        "\n",
        "feature = scale.fit_transform(feature)"
      ],
      "execution_count": 15,
      "outputs": []
    },
    {
      "cell_type": "code",
      "metadata": {
        "colab": {
          "base_uri": "https://localhost:8080/"
        },
        "id": "1CO8gd8l390_",
        "outputId": "8ea47010-c0f3-4f2c-842e-3012a05b9a14"
      },
      "source": [
        "j = 0\n",
        "for i in data['feature_names']:\n",
        "  print(i,\":\",feature[0][j])\n",
        "  j+=1"
      ],
      "execution_count": 16,
      "outputs": [
        {
          "output_type": "stream",
          "name": "stdout",
          "text": [
            "mean radius : 1.0970639814699807\n",
            "mean texture : -2.0733350146975935\n",
            "mean perimeter : 1.2699336881399383\n",
            "mean area : 0.9843749048031144\n",
            "mean smoothness : 1.568466329243428\n",
            "mean compactness : 3.2835146709868264\n",
            "mean concavity : 2.652873983743168\n",
            "mean concave points : 2.532475216403245\n",
            "mean symmetry : 2.2175150059646405\n",
            "mean fractal dimension : 2.255746885296269\n",
            "radius error : 2.4897339267376193\n",
            "texture error : -0.5652650590684639\n",
            "perimeter error : 2.833030865855184\n",
            "area error : 2.4875775569611043\n",
            "smoothness error : -0.21400164666895383\n",
            "compactness error : 1.3168615683959484\n",
            "concavity error : 0.72402615808036\n",
            "concave points error : 0.6608199414286064\n",
            "symmetry error : 1.1487566671861758\n",
            "fractal dimension error : 0.9070830809973359\n",
            "worst radius : 1.8866896251792757\n",
            "worst texture : -1.3592934737640827\n",
            "worst perimeter : 2.3036006236225606\n",
            "worst area : 2.0012374893299207\n",
            "worst smoothness : 1.3076862710715387\n",
            "worst compactness : 2.616665023512603\n",
            "worst concavity : 2.1095263465722556\n",
            "worst concave points : 2.296076127561788\n",
            "worst symmetry : 2.750622244124955\n",
            "worst fractal dimension : 1.9370146123781782\n"
          ]
        }
      ]
    },
    {
      "cell_type": "code",
      "metadata": {
        "colab": {
          "base_uri": "https://localhost:8080/"
        },
        "id": "foge7VPA4ROo",
        "outputId": "aff04dda-4067-41d9-8dd8-6a331a39cf71"
      },
      "source": [
        "print(feature[568])\n",
        "print(data['target_names'][label[178]],label[178])"
      ],
      "execution_count": 17,
      "outputs": [
        {
          "output_type": "stream",
          "name": "stdout",
          "text": [
            "[-1.80840125  1.22179204 -1.81438851 -1.34778924 -3.11208479 -1.15075248\n",
            " -1.11487284 -1.26181958 -0.8200699  -0.56103238 -0.07027874  0.3830925\n",
            " -0.15744905 -0.46615196  0.04934236 -1.16351619 -1.05750068 -1.91344745\n",
            "  0.75282996 -0.382754   -1.41089258  0.76418957 -1.43273495 -1.07581292\n",
            " -1.85901852 -1.2075525  -1.30583065 -1.74506282 -0.04813821 -0.75120669]\n",
            "benign 1\n"
          ]
        }
      ]
    },
    {
      "cell_type": "code",
      "metadata": {
        "id": "gdaDgZRb4saf"
      },
      "source": [
        "df_frt = pd.DataFrame(feature , columns = data['feature_names'])\n",
        "df_lbl = pd.DataFrame(label , columns = ['label'])\n",
        "df = pd.concat([df_frt, df_lbl], axis=1)\n",
        "df = df.sample(frac = 1)\n",
        "\n",
        "feature = df.values[ : , : 30]\n",
        "label = df.values[ : ,30: ]"
      ],
      "execution_count": 18,
      "outputs": []
    },
    {
      "cell_type": "code",
      "metadata": {
        "colab": {
          "base_uri": "https://localhost:8080/",
          "height": 522
        },
        "id": "EoRQs1nh41aY",
        "outputId": "4d9b5250-6be3-41c0-ed01-6ba661dc64d8"
      },
      "source": [
        "df"
      ],
      "execution_count": 19,
      "outputs": [
        {
          "output_type": "execute_result",
          "data": {
            "text/html": [
              "\n",
              "  <div id=\"df-789e29dc-700e-444a-ba7a-471529bc3491\">\n",
              "    <div class=\"colab-df-container\">\n",
              "      <div>\n",
              "<style scoped>\n",
              "    .dataframe tbody tr th:only-of-type {\n",
              "        vertical-align: middle;\n",
              "    }\n",
              "\n",
              "    .dataframe tbody tr th {\n",
              "        vertical-align: top;\n",
              "    }\n",
              "\n",
              "    .dataframe thead th {\n",
              "        text-align: right;\n",
              "    }\n",
              "</style>\n",
              "<table border=\"1\" class=\"dataframe\">\n",
              "  <thead>\n",
              "    <tr style=\"text-align: right;\">\n",
              "      <th></th>\n",
              "      <th>mean radius</th>\n",
              "      <th>mean texture</th>\n",
              "      <th>mean perimeter</th>\n",
              "      <th>mean area</th>\n",
              "      <th>mean smoothness</th>\n",
              "      <th>mean compactness</th>\n",
              "      <th>mean concavity</th>\n",
              "      <th>mean concave points</th>\n",
              "      <th>mean symmetry</th>\n",
              "      <th>mean fractal dimension</th>\n",
              "      <th>radius error</th>\n",
              "      <th>texture error</th>\n",
              "      <th>perimeter error</th>\n",
              "      <th>area error</th>\n",
              "      <th>smoothness error</th>\n",
              "      <th>compactness error</th>\n",
              "      <th>concavity error</th>\n",
              "      <th>concave points error</th>\n",
              "      <th>symmetry error</th>\n",
              "      <th>fractal dimension error</th>\n",
              "      <th>worst radius</th>\n",
              "      <th>worst texture</th>\n",
              "      <th>worst perimeter</th>\n",
              "      <th>worst area</th>\n",
              "      <th>worst smoothness</th>\n",
              "      <th>worst compactness</th>\n",
              "      <th>worst concavity</th>\n",
              "      <th>worst concave points</th>\n",
              "      <th>worst symmetry</th>\n",
              "      <th>worst fractal dimension</th>\n",
              "      <th>label</th>\n",
              "    </tr>\n",
              "  </thead>\n",
              "  <tbody>\n",
              "    <tr>\n",
              "      <th>54</th>\n",
              "      <td>0.276263</td>\n",
              "      <td>0.635371</td>\n",
              "      <td>0.217936</td>\n",
              "      <td>0.164705</td>\n",
              "      <td>-0.412780</td>\n",
              "      <td>-0.635462</td>\n",
              "      <td>-0.455360</td>\n",
              "      <td>-0.401848</td>\n",
              "      <td>-0.714193</td>\n",
              "      <td>-0.844553</td>\n",
              "      <td>-0.341691</td>\n",
              "      <td>-0.694809</td>\n",
              "      <td>-0.380708</td>\n",
              "      <td>-0.229414</td>\n",
              "      <td>-0.788692</td>\n",
              "      <td>-0.848299</td>\n",
              "      <td>-0.525994</td>\n",
              "      <td>-0.417550</td>\n",
              "      <td>-1.161421</td>\n",
              "      <td>-0.819256</td>\n",
              "      <td>0.379129</td>\n",
              "      <td>0.979143</td>\n",
              "      <td>0.310928</td>\n",
              "      <td>0.262662</td>\n",
              "      <td>0.286310</td>\n",
              "      <td>-0.308942</td>\n",
              "      <td>-0.004742</td>\n",
              "      <td>0.584607</td>\n",
              "      <td>-0.365223</td>\n",
              "      <td>-0.289039</td>\n",
              "      <td>0</td>\n",
              "    </tr>\n",
              "    <tr>\n",
              "      <th>525</th>\n",
              "      <td>-1.578066</td>\n",
              "      <td>-1.440373</td>\n",
              "      <td>-1.542121</td>\n",
              "      <td>-1.233172</td>\n",
              "      <td>0.515218</td>\n",
              "      <td>-0.531039</td>\n",
              "      <td>-0.792838</td>\n",
              "      <td>-0.872330</td>\n",
              "      <td>-0.487834</td>\n",
              "      <td>1.199632</td>\n",
              "      <td>-1.005064</td>\n",
              "      <td>-0.975307</td>\n",
              "      <td>-0.889599</td>\n",
              "      <td>-0.727884</td>\n",
              "      <td>0.285352</td>\n",
              "      <td>-0.439188</td>\n",
              "      <td>-0.460343</td>\n",
              "      <td>-0.726073</td>\n",
              "      <td>-0.559661</td>\n",
              "      <td>0.049209</td>\n",
              "      <td>-1.407372</td>\n",
              "      <td>-1.176908</td>\n",
              "      <td>-1.309422</td>\n",
              "      <td>-1.063508</td>\n",
              "      <td>1.390974</td>\n",
              "      <td>-0.195709</td>\n",
              "      <td>-0.464345</td>\n",
              "      <td>-0.448975</td>\n",
              "      <td>0.133053</td>\n",
              "      <td>1.161193</td>\n",
              "      <td>1</td>\n",
              "    </tr>\n",
              "    <tr>\n",
              "      <th>359</th>\n",
              "      <td>-1.332393</td>\n",
              "      <td>-0.225644</td>\n",
              "      <td>-1.324225</td>\n",
              "      <td>-1.070205</td>\n",
              "      <td>0.323071</td>\n",
              "      <td>-0.848666</td>\n",
              "      <td>-0.774633</td>\n",
              "      <td>-0.899156</td>\n",
              "      <td>-1.115796</td>\n",
              "      <td>0.962892</td>\n",
              "      <td>0.370767</td>\n",
              "      <td>0.054696</td>\n",
              "      <td>0.198478</td>\n",
              "      <td>-0.216873</td>\n",
              "      <td>-0.068329</td>\n",
              "      <td>-0.921962</td>\n",
              "      <td>-0.278974</td>\n",
              "      <td>-0.848541</td>\n",
              "      <td>-0.135886</td>\n",
              "      <td>-0.409232</td>\n",
              "      <td>-0.879933</td>\n",
              "      <td>-0.107025</td>\n",
              "      <td>-0.937396</td>\n",
              "      <td>-0.775210</td>\n",
              "      <td>0.040829</td>\n",
              "      <td>-0.950170</td>\n",
              "      <td>-0.756994</td>\n",
              "      <td>-0.975815</td>\n",
              "      <td>-0.722753</td>\n",
              "      <td>-0.143295</td>\n",
              "      <td>1</td>\n",
              "    </tr>\n",
              "    <tr>\n",
              "      <th>378</th>\n",
              "      <td>-0.132717</td>\n",
              "      <td>-0.963324</td>\n",
              "      <td>-0.152364</td>\n",
              "      <td>-0.211286</td>\n",
              "      <td>-0.973563</td>\n",
              "      <td>-0.546958</td>\n",
              "      <td>-0.581412</td>\n",
              "      <td>-0.624450</td>\n",
              "      <td>-0.071627</td>\n",
              "      <td>-0.542604</td>\n",
              "      <td>-0.956340</td>\n",
              "      <td>-1.224961</td>\n",
              "      <td>-0.873758</td>\n",
              "      <td>-0.637765</td>\n",
              "      <td>-0.609684</td>\n",
              "      <td>0.243782</td>\n",
              "      <td>-0.247475</td>\n",
              "      <td>-0.558023</td>\n",
              "      <td>-0.286024</td>\n",
              "      <td>0.405900</td>\n",
              "      <td>-0.358085</td>\n",
              "      <td>-0.983124</td>\n",
              "      <td>-0.277044</td>\n",
              "      <td>-0.393040</td>\n",
              "      <td>-0.213419</td>\n",
              "      <td>0.357097</td>\n",
              "      <td>-0.073347</td>\n",
              "      <td>-0.140179</td>\n",
              "      <td>0.786637</td>\n",
              "      <td>0.689050</td>\n",
              "      <td>1</td>\n",
              "    </tr>\n",
              "    <tr>\n",
              "      <th>291</th>\n",
              "      <td>0.236501</td>\n",
              "      <td>-0.044132</td>\n",
              "      <td>0.208462</td>\n",
              "      <td>0.092180</td>\n",
              "      <td>-0.458325</td>\n",
              "      <td>-0.115812</td>\n",
              "      <td>-0.369108</td>\n",
              "      <td>-0.018808</td>\n",
              "      <td>0.246006</td>\n",
              "      <td>-0.606396</td>\n",
              "      <td>-0.423981</td>\n",
              "      <td>-0.487793</td>\n",
              "      <td>-0.344076</td>\n",
              "      <td>-0.340302</td>\n",
              "      <td>-0.569683</td>\n",
              "      <td>-0.241898</td>\n",
              "      <td>-0.548209</td>\n",
              "      <td>0.011981</td>\n",
              "      <td>-0.644416</td>\n",
              "      <td>-0.370650</td>\n",
              "      <td>-0.003974</td>\n",
              "      <td>0.083503</td>\n",
              "      <td>0.054770</td>\n",
              "      <td>-0.124431</td>\n",
              "      <td>-0.046843</td>\n",
              "      <td>0.310022</td>\n",
              "      <td>-0.440357</td>\n",
              "      <td>0.522178</td>\n",
              "      <td>0.099080</td>\n",
              "      <td>0.042902</td>\n",
              "      <td>1</td>\n",
              "    </tr>\n",
              "    <tr>\n",
              "      <th>...</th>\n",
              "      <td>...</td>\n",
              "      <td>...</td>\n",
              "      <td>...</td>\n",
              "      <td>...</td>\n",
              "      <td>...</td>\n",
              "      <td>...</td>\n",
              "      <td>...</td>\n",
              "      <td>...</td>\n",
              "      <td>...</td>\n",
              "      <td>...</td>\n",
              "      <td>...</td>\n",
              "      <td>...</td>\n",
              "      <td>...</td>\n",
              "      <td>...</td>\n",
              "      <td>...</td>\n",
              "      <td>...</td>\n",
              "      <td>...</td>\n",
              "      <td>...</td>\n",
              "      <td>...</td>\n",
              "      <td>...</td>\n",
              "      <td>...</td>\n",
              "      <td>...</td>\n",
              "      <td>...</td>\n",
              "      <td>...</td>\n",
              "      <td>...</td>\n",
              "      <td>...</td>\n",
              "      <td>...</td>\n",
              "      <td>...</td>\n",
              "      <td>...</td>\n",
              "      <td>...</td>\n",
              "      <td>...</td>\n",
              "    </tr>\n",
              "    <tr>\n",
              "      <th>296</th>\n",
              "      <td>-0.913757</td>\n",
              "      <td>-1.614903</td>\n",
              "      <td>-0.940332</td>\n",
              "      <td>-0.828172</td>\n",
              "      <td>-0.795650</td>\n",
              "      <td>-1.082717</td>\n",
              "      <td>-0.959693</td>\n",
              "      <td>-0.908700</td>\n",
              "      <td>-1.323900</td>\n",
              "      <td>-0.352645</td>\n",
              "      <td>-0.829657</td>\n",
              "      <td>-0.344459</td>\n",
              "      <td>-0.791583</td>\n",
              "      <td>-0.643486</td>\n",
              "      <td>-1.187708</td>\n",
              "      <td>-0.741550</td>\n",
              "      <td>-0.702057</td>\n",
              "      <td>-0.389812</td>\n",
              "      <td>1.073688</td>\n",
              "      <td>-0.138782</td>\n",
              "      <td>-1.014537</td>\n",
              "      <td>-1.768031</td>\n",
              "      <td>-1.037775</td>\n",
              "      <td>-0.858535</td>\n",
              "      <td>-1.720497</td>\n",
              "      <td>-1.139994</td>\n",
              "      <td>-1.167470</td>\n",
              "      <td>-1.258725</td>\n",
              "      <td>-1.225882</td>\n",
              "      <td>-0.970653</td>\n",
              "      <td>1</td>\n",
              "    </tr>\n",
              "    <tr>\n",
              "      <th>79</th>\n",
              "      <td>-0.359929</td>\n",
              "      <td>-0.300110</td>\n",
              "      <td>-0.361610</td>\n",
              "      <td>-0.422603</td>\n",
              "      <td>0.212053</td>\n",
              "      <td>-0.168308</td>\n",
              "      <td>-0.626610</td>\n",
              "      <td>-0.664689</td>\n",
              "      <td>-0.341796</td>\n",
              "      <td>-0.400843</td>\n",
              "      <td>-0.504106</td>\n",
              "      <td>-0.221084</td>\n",
              "      <td>-0.538623</td>\n",
              "      <td>-0.439750</td>\n",
              "      <td>-0.582683</td>\n",
              "      <td>-0.495636</td>\n",
              "      <td>-0.370819</td>\n",
              "      <td>-0.586735</td>\n",
              "      <td>-0.370779</td>\n",
              "      <td>-0.358168</td>\n",
              "      <td>-0.420210</td>\n",
              "      <td>-0.139593</td>\n",
              "      <td>-0.458142</td>\n",
              "      <td>-0.454391</td>\n",
              "      <td>-0.152049</td>\n",
              "      <td>-0.255506</td>\n",
              "      <td>-0.475379</td>\n",
              "      <td>-0.538203</td>\n",
              "      <td>-0.196974</td>\n",
              "      <td>-0.264102</td>\n",
              "      <td>1</td>\n",
              "    </tr>\n",
              "    <tr>\n",
              "      <th>543</th>\n",
              "      <td>-0.260524</td>\n",
              "      <td>2.040920</td>\n",
              "      <td>-0.291999</td>\n",
              "      <td>-0.331307</td>\n",
              "      <td>-0.686767</td>\n",
              "      <td>-0.674123</td>\n",
              "      <td>-0.739856</td>\n",
              "      <td>-0.417067</td>\n",
              "      <td>-0.670381</td>\n",
              "      <td>-0.707046</td>\n",
              "      <td>-0.613826</td>\n",
              "      <td>0.689717</td>\n",
              "      <td>-0.656935</td>\n",
              "      <td>-0.494754</td>\n",
              "      <td>-0.689354</td>\n",
              "      <td>-0.657157</td>\n",
              "      <td>-0.560808</td>\n",
              "      <td>-0.434582</td>\n",
              "      <td>-0.399837</td>\n",
              "      <td>-0.927436</td>\n",
              "      <td>-0.393289</td>\n",
              "      <td>1.871527</td>\n",
              "      <td>-0.440271</td>\n",
              "      <td>-0.441206</td>\n",
              "      <td>-1.103288</td>\n",
              "      <td>-0.738972</td>\n",
              "      <td>-0.796334</td>\n",
              "      <td>-0.533330</td>\n",
              "      <td>-0.692015</td>\n",
              "      <td>-1.081485</td>\n",
              "      <td>1</td>\n",
              "    </tr>\n",
              "    <tr>\n",
              "      <th>450</th>\n",
              "      <td>-0.641103</td>\n",
              "      <td>0.523672</td>\n",
              "      <td>-0.623580</td>\n",
              "      <td>-0.633919</td>\n",
              "      <td>-2.151351</td>\n",
              "      <td>0.039021</td>\n",
              "      <td>-0.012923</td>\n",
              "      <td>-0.646375</td>\n",
              "      <td>-1.688994</td>\n",
              "      <td>0.470983</td>\n",
              "      <td>-0.538393</td>\n",
              "      <td>0.611700</td>\n",
              "      <td>-0.451002</td>\n",
              "      <td>-0.442170</td>\n",
              "      <td>-0.062329</td>\n",
              "      <td>1.964621</td>\n",
              "      <td>1.151752</td>\n",
              "      <td>0.605669</td>\n",
              "      <td>0.362957</td>\n",
              "      <td>1.940466</td>\n",
              "      <td>-0.720479</td>\n",
              "      <td>0.407562</td>\n",
              "      <td>-0.707450</td>\n",
              "      <td>-0.656375</td>\n",
              "      <td>-1.656935</td>\n",
              "      <td>0.544758</td>\n",
              "      <td>0.238012</td>\n",
              "      <td>-0.412736</td>\n",
              "      <td>-0.963802</td>\n",
              "      <td>0.863056</td>\n",
              "      <td>1</td>\n",
              "    </tr>\n",
              "    <tr>\n",
              "      <th>264</th>\n",
              "      <td>0.869853</td>\n",
              "      <td>0.647006</td>\n",
              "      <td>0.808603</td>\n",
              "      <td>0.777609</td>\n",
              "      <td>0.064029</td>\n",
              "      <td>-0.272730</td>\n",
              "      <td>0.022733</td>\n",
              "      <td>0.421754</td>\n",
              "      <td>0.202194</td>\n",
              "      <td>-0.991984</td>\n",
              "      <td>0.054600</td>\n",
              "      <td>-0.868260</td>\n",
              "      <td>-0.023296</td>\n",
              "      <td>0.111833</td>\n",
              "      <td>-0.849361</td>\n",
              "      <td>-0.749934</td>\n",
              "      <td>-0.378445</td>\n",
              "      <td>-0.311627</td>\n",
              "      <td>-1.102093</td>\n",
              "      <td>-0.839682</td>\n",
              "      <td>1.099776</td>\n",
              "      <td>0.594832</td>\n",
              "      <td>0.990045</td>\n",
              "      <td>0.976374</td>\n",
              "      <td>1.027137</td>\n",
              "      <td>0.015490</td>\n",
              "      <td>0.559926</td>\n",
              "      <td>1.275894</td>\n",
              "      <td>0.509996</td>\n",
              "      <td>-0.456949</td>\n",
              "      <td>0</td>\n",
              "    </tr>\n",
              "  </tbody>\n",
              "</table>\n",
              "<p>569 rows × 31 columns</p>\n",
              "</div>\n",
              "      <button class=\"colab-df-convert\" onclick=\"convertToInteractive('df-789e29dc-700e-444a-ba7a-471529bc3491')\"\n",
              "              title=\"Convert this dataframe to an interactive table.\"\n",
              "              style=\"display:none;\">\n",
              "        \n",
              "  <svg xmlns=\"http://www.w3.org/2000/svg\" height=\"24px\"viewBox=\"0 0 24 24\"\n",
              "       width=\"24px\">\n",
              "    <path d=\"M0 0h24v24H0V0z\" fill=\"none\"/>\n",
              "    <path d=\"M18.56 5.44l.94 2.06.94-2.06 2.06-.94-2.06-.94-.94-2.06-.94 2.06-2.06.94zm-11 1L8.5 8.5l.94-2.06 2.06-.94-2.06-.94L8.5 2.5l-.94 2.06-2.06.94zm10 10l.94 2.06.94-2.06 2.06-.94-2.06-.94-.94-2.06-.94 2.06-2.06.94z\"/><path d=\"M17.41 7.96l-1.37-1.37c-.4-.4-.92-.59-1.43-.59-.52 0-1.04.2-1.43.59L10.3 9.45l-7.72 7.72c-.78.78-.78 2.05 0 2.83L4 21.41c.39.39.9.59 1.41.59.51 0 1.02-.2 1.41-.59l7.78-7.78 2.81-2.81c.8-.78.8-2.07 0-2.86zM5.41 20L4 18.59l7.72-7.72 1.47 1.35L5.41 20z\"/>\n",
              "  </svg>\n",
              "      </button>\n",
              "      \n",
              "  <style>\n",
              "    .colab-df-container {\n",
              "      display:flex;\n",
              "      flex-wrap:wrap;\n",
              "      gap: 12px;\n",
              "    }\n",
              "\n",
              "    .colab-df-convert {\n",
              "      background-color: #E8F0FE;\n",
              "      border: none;\n",
              "      border-radius: 50%;\n",
              "      cursor: pointer;\n",
              "      display: none;\n",
              "      fill: #1967D2;\n",
              "      height: 32px;\n",
              "      padding: 0 0 0 0;\n",
              "      width: 32px;\n",
              "    }\n",
              "\n",
              "    .colab-df-convert:hover {\n",
              "      background-color: #E2EBFA;\n",
              "      box-shadow: 0px 1px 2px rgba(60, 64, 67, 0.3), 0px 1px 3px 1px rgba(60, 64, 67, 0.15);\n",
              "      fill: #174EA6;\n",
              "    }\n",
              "\n",
              "    [theme=dark] .colab-df-convert {\n",
              "      background-color: #3B4455;\n",
              "      fill: #D2E3FC;\n",
              "    }\n",
              "\n",
              "    [theme=dark] .colab-df-convert:hover {\n",
              "      background-color: #434B5C;\n",
              "      box-shadow: 0px 1px 3px 1px rgba(0, 0, 0, 0.15);\n",
              "      filter: drop-shadow(0px 1px 2px rgba(0, 0, 0, 0.3));\n",
              "      fill: #FFFFFF;\n",
              "    }\n",
              "  </style>\n",
              "\n",
              "      <script>\n",
              "        const buttonEl =\n",
              "          document.querySelector('#df-789e29dc-700e-444a-ba7a-471529bc3491 button.colab-df-convert');\n",
              "        buttonEl.style.display =\n",
              "          google.colab.kernel.accessAllowed ? 'block' : 'none';\n",
              "\n",
              "        async function convertToInteractive(key) {\n",
              "          const element = document.querySelector('#df-789e29dc-700e-444a-ba7a-471529bc3491');\n",
              "          const dataTable =\n",
              "            await google.colab.kernel.invokeFunction('convertToInteractive',\n",
              "                                                     [key], {});\n",
              "          if (!dataTable) return;\n",
              "\n",
              "          const docLinkHtml = 'Like what you see? Visit the ' +\n",
              "            '<a target=\"_blank\" href=https://colab.research.google.com/notebooks/data_table.ipynb>data table notebook</a>'\n",
              "            + ' to learn more about interactive tables.';\n",
              "          element.innerHTML = '';\n",
              "          dataTable['output_type'] = 'display_data';\n",
              "          await google.colab.output.renderOutput(dataTable, element);\n",
              "          const docLink = document.createElement('div');\n",
              "          docLink.innerHTML = docLinkHtml;\n",
              "          element.appendChild(docLink);\n",
              "        }\n",
              "      </script>\n",
              "    </div>\n",
              "  </div>\n",
              "  "
            ],
            "text/plain": [
              "     mean radius  mean texture  ...  worst fractal dimension  label\n",
              "54      0.276263      0.635371  ...                -0.289039      0\n",
              "525    -1.578066     -1.440373  ...                 1.161193      1\n",
              "359    -1.332393     -0.225644  ...                -0.143295      1\n",
              "378    -0.132717     -0.963324  ...                 0.689050      1\n",
              "291     0.236501     -0.044132  ...                 0.042902      1\n",
              "..           ...           ...  ...                      ...    ...\n",
              "296    -0.913757     -1.614903  ...                -0.970653      1\n",
              "79     -0.359929     -0.300110  ...                -0.264102      1\n",
              "543    -0.260524      2.040920  ...                -1.081485      1\n",
              "450    -0.641103      0.523672  ...                 0.863056      1\n",
              "264     0.869853      0.647006  ...                -0.456949      0\n",
              "\n",
              "[569 rows x 31 columns]"
            ]
          },
          "metadata": {},
          "execution_count": 19
        }
      ]
    },
    {
      "cell_type": "code",
      "metadata": {
        "id": "fT7V-XOt5Ttx"
      },
      "source": [
        "#500 Training\n",
        "X_train = feature[:500]\n",
        "y_train = label[:500]\n",
        "\n",
        "#35 Validation\n",
        "X_val = feature[500:535]\n",
        "y_val = label[500:535]\n",
        "\n",
        "#34 Testing\n",
        "X_test = feature[535:]\n",
        "y_test = label[535:]"
      ],
      "execution_count": 20,
      "outputs": []
    },
    {
      "cell_type": "markdown",
      "metadata": {
        "id": "n1hUTwfL4_wk"
      },
      "source": [
        "**NOW WE TRAIN OUR MODEL **"
      ]
    },
    {
      "cell_type": "code",
      "metadata": {
        "id": "AU4INIS35Ovh"
      },
      "source": [
        "model = Sequential()\n",
        "\n",
        "model.add(Dense(32, activation = 'relu', input_dim = 30))\n",
        "model.add(Dense(64, activation = 'relu'))\n",
        "model.add(Dense(128, activation = 'relu'))\n",
        "model.add(Dense(64, activation = 'relu'))\n",
        "model.add(Dense(32, activation = 'relu'))\n",
        "model.add(Dense(1, activation = 'sigmoid'))\n",
        "\n",
        "model.compile( loss = 'binary_crossentropy' , optimizer = 'adam' , metrics = ['accuracy'])"
      ],
      "execution_count": 21,
      "outputs": []
    },
    {
      "cell_type": "code",
      "metadata": {
        "colab": {
          "base_uri": "https://localhost:8080/"
        },
        "id": "IRcN6qAu5IPP",
        "outputId": "37b6863d-b589-408f-c03e-2b9226e808f7"
      },
      "source": [
        "model.fit( X_train , y_train, epochs = 10, batch_size = 2, validation_data = (X_val, y_val))"
      ],
      "execution_count": 22,
      "outputs": [
        {
          "output_type": "stream",
          "name": "stdout",
          "text": [
            "Epoch 1/10\n",
            "250/250 [==============================] - 2s 3ms/step - loss: 0.1922 - accuracy: 0.9220 - val_loss: 0.0711 - val_accuracy: 0.9714\n",
            "Epoch 2/10\n",
            "250/250 [==============================] - 1s 2ms/step - loss: 0.0774 - accuracy: 0.9800 - val_loss: 0.0836 - val_accuracy: 0.9714\n",
            "Epoch 3/10\n",
            "250/250 [==============================] - 1s 3ms/step - loss: 0.0552 - accuracy: 0.9800 - val_loss: 0.1057 - val_accuracy: 0.9429\n",
            "Epoch 4/10\n",
            "250/250 [==============================] - 1s 2ms/step - loss: 0.0442 - accuracy: 0.9860 - val_loss: 0.0740 - val_accuracy: 0.9429\n",
            "Epoch 5/10\n",
            "250/250 [==============================] - 1s 2ms/step - loss: 0.0221 - accuracy: 0.9940 - val_loss: 0.1339 - val_accuracy: 0.9714\n",
            "Epoch 6/10\n",
            "250/250 [==============================] - 1s 2ms/step - loss: 0.0292 - accuracy: 0.9900 - val_loss: 0.2320 - val_accuracy: 0.9143\n",
            "Epoch 7/10\n",
            "250/250 [==============================] - 1s 2ms/step - loss: 0.0440 - accuracy: 0.9860 - val_loss: 0.1700 - val_accuracy: 0.9429\n",
            "Epoch 8/10\n",
            "250/250 [==============================] - 1s 2ms/step - loss: 0.0317 - accuracy: 0.9900 - val_loss: 0.1637 - val_accuracy: 0.9429\n",
            "Epoch 9/10\n",
            "250/250 [==============================] - 1s 2ms/step - loss: 0.0150 - accuracy: 0.9940 - val_loss: 0.1473 - val_accuracy: 0.9714\n",
            "Epoch 10/10\n",
            "250/250 [==============================] - 1s 2ms/step - loss: 0.0302 - accuracy: 0.9880 - val_loss: 0.1466 - val_accuracy: 0.9714\n"
          ]
        },
        {
          "output_type": "execute_result",
          "data": {
            "text/plain": [
              "<keras.callbacks.History at 0x7f4de4ab50d0>"
            ]
          },
          "metadata": {},
          "execution_count": 22
        }
      ]
    },
    {
      "cell_type": "code",
      "metadata": {
        "colab": {
          "base_uri": "https://localhost:8080/"
        },
        "id": "7Nz4lE1_5vgJ",
        "outputId": "c5e7add7-6374-49b5-a006-7c635d60ce9a"
      },
      "source": [
        "model.evaluate(X_test , y_test)"
      ],
      "execution_count": 23,
      "outputs": [
        {
          "output_type": "stream",
          "name": "stdout",
          "text": [
            "2/2 [==============================] - 0s 6ms/step - loss: 0.2210 - accuracy: 0.9706\n"
          ]
        },
        {
          "output_type": "execute_result",
          "data": {
            "text/plain": [
              "[0.2210063934326172, 0.970588207244873]"
            ]
          },
          "metadata": {},
          "execution_count": 23
        }
      ]
    },
    {
      "cell_type": "code",
      "metadata": {
        "colab": {
          "base_uri": "https://localhost:8080/"
        },
        "id": "Po-qvqLt6LoV",
        "outputId": "febb3a28-9379-4f80-c682-e50b6a0f72e0"
      },
      "source": [
        "model.evaluate(X_val , y_val)"
      ],
      "execution_count": 24,
      "outputs": [
        {
          "output_type": "stream",
          "name": "stdout",
          "text": [
            "2/2 [==============================] - 0s 5ms/step - loss: 0.1466 - accuracy: 0.9714\n"
          ]
        },
        {
          "output_type": "execute_result",
          "data": {
            "text/plain": [
              "[0.146559476852417, 0.9714285731315613]"
            ]
          },
          "metadata": {},
          "execution_count": 24
        }
      ]
    },
    {
      "cell_type": "code",
      "metadata": {
        "colab": {
          "base_uri": "https://localhost:8080/"
        },
        "id": "ccrC18la6QQu",
        "outputId": "c1f67320-4952-4057-95b5-2ad90ecd7944"
      },
      "source": [
        "for i in range(21):\n",
        "  sample = X_test[i]\n",
        "  sample = np.reshape(sample, (1,30))\n",
        "\n",
        "  if (model.predict(sample)[0][0] > 0.5):\n",
        "    print(\"-Benign\")\n",
        "  else:\n",
        "    print(\"-Malignant\")\n",
        "\n",
        "  if (y_test[i] == 1):\n",
        "    print(\"*Banign\")\n",
        "  else:\n",
        "    print(\"*Melignant\")\n",
        "  print(\"-----------\")"
      ],
      "execution_count": 25,
      "outputs": [
        {
          "output_type": "stream",
          "name": "stdout",
          "text": [
            "-Malignant\n",
            "*Melignant\n",
            "-----------\n",
            "-Benign\n",
            "*Banign\n",
            "-----------\n",
            "-Benign\n",
            "*Banign\n",
            "-----------\n",
            "-Malignant\n",
            "*Melignant\n",
            "-----------\n",
            "-Benign\n",
            "*Banign\n",
            "-----------\n",
            "-Malignant\n",
            "*Melignant\n",
            "-----------\n",
            "-Benign\n",
            "*Banign\n",
            "-----------\n",
            "-Benign\n",
            "*Banign\n",
            "-----------\n",
            "-Benign\n",
            "*Banign\n",
            "-----------\n",
            "-Benign\n",
            "*Banign\n",
            "-----------\n",
            "-Malignant\n",
            "*Melignant\n",
            "-----------\n",
            "-Benign\n",
            "*Banign\n",
            "-----------\n",
            "-Benign\n",
            "*Banign\n",
            "-----------\n",
            "-Benign\n",
            "*Banign\n",
            "-----------\n",
            "-Malignant\n",
            "*Melignant\n",
            "-----------\n",
            "-Benign\n",
            "*Melignant\n",
            "-----------\n",
            "-Malignant\n",
            "*Melignant\n",
            "-----------\n",
            "-Malignant\n",
            "*Melignant\n",
            "-----------\n",
            "-Benign\n",
            "*Banign\n",
            "-----------\n",
            "-Benign\n",
            "*Banign\n",
            "-----------\n",
            "-Benign\n",
            "*Banign\n",
            "-----------\n"
          ]
        }
      ]
    },
    {
      "cell_type": "code",
      "metadata": {
        "colab": {
          "base_uri": "https://localhost:8080/"
        },
        "id": "4naUwcc-6yzk",
        "outputId": "2ec5af32-e6fc-4c34-ab54-9773ebe00639"
      },
      "source": [
        "t = 0\n",
        "for i in y_val:\n",
        "  if (i == 1):\n",
        "    t += 1\n",
        "\n",
        "print(t)"
      ],
      "execution_count": 26,
      "outputs": [
        {
          "output_type": "stream",
          "name": "stdout",
          "text": [
            "18\n"
          ]
        }
      ]
    },
    {
      "cell_type": "code",
      "metadata": {
        "colab": {
          "base_uri": "https://localhost:8080/"
        },
        "id": "N4FF298V62zb",
        "outputId": "a00c6cf9-ba98-4a8f-ced9-c02034d90950"
      },
      "source": [
        "t = 0\n",
        "for i in y_test:\n",
        "  if (i == 1):\n",
        "    t += 1\n",
        "\n",
        "print(t)"
      ],
      "execution_count": 27,
      "outputs": [
        {
          "output_type": "stream",
          "name": "stdout",
          "text": [
            "21\n"
          ]
        }
      ]
    }
  ]
}